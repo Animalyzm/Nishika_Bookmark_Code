{
 "cells": [
  {
   "cell_type": "markdown",
   "id": "5bc148cd-c4cc-4405-a1bf-030078ea4a49",
   "metadata": {},
   "source": [
    "### メインモデルファイル"
   ]
  },
  {
   "cell_type": "markdown",
   "id": "299522eb-9844-4c2e-a971-9d76ee20c235",
   "metadata": {},
   "source": [
    "【実行順序】<br>\n",
    "※実行毎にRestart, 変数指定をしてください。<br>\n",
    "①BERTモデルの特徴量を作成（B_BERT_clsファイル）してください。<br>\n",
    "　計18回(span x3, col x3, model x2)<br>\n",
    "②スパンモデルの特徴量を作成（このファイル）してください。<br>\n",
    "　計4回（span x2, model x2）<br>\n",
    "③メインモデルを作成を実行してください。<br>\n",
    "\n",
    "【このファイルでの変数指定順序】<br>\n",
    "① span: 365, model: cb<br>\n",
    "② span: 365, model: lgb<br>\n",
    "③ span: 730, model: cb<br>\n",
    "④ span: 730, model: lgb<br>\n",
    "⑤ span: 0, model: cb<br>"
   ]
  },
  {
   "cell_type": "markdown",
   "id": "19c64d66-e67e-4bcd-a9fa-819f8a137bb6",
   "metadata": {},
   "source": [
    "### 目次"
   ]
  },
  {
   "cell_type": "markdown",
   "id": "4c7c0507-fc3b-472f-891a-04683881ccec",
   "metadata": {},
   "source": [
    "・ディレクトリ構造<br>\n",
    "・ライブラリインストール<br>\n",
    "・変数指定<br>\n",
    "・定数<br>\n",
    "・カラム内容<br>\n",
    "・データ読み込み<br>\n",
    "・前処理・EDA（探索的データ分析）<br>\n",
    "　・初回掲載年、経過日数カラム<br>\n",
    "　・span別にデータ抽出<br>\n",
    "　・トップトークンリスト作成<br>\n",
    "　・カラム絞り込み<br>\n",
    "　・カウントカラム<br>\n",
    "　・BERT特徴量カラム<br>\n",
    "　・スパンモデル特徴量カラム<br>\n",
    "・訓練データ作成<br>\n",
    "・訓練<br>\n",
    "・評価（参考：最終モデルのみ）<br>\n",
    "・特徴量重要度<br>\n",
    "・モデル出力の特徴量化（スパンモデルのみ）<br>\n",
    "・テストデータ予測<br>\n",
    "・テストデータ予測値の特徴量化（スパンモデルのみ）<br>\n",
    "・提出<br>"
   ]
  },
  {
   "cell_type": "markdown",
   "id": "13310908-7d60-4232-9eca-60ee9c658de6",
   "metadata": {},
   "source": [
    "### ディレクトリ構造"
   ]
  },
  {
   "cell_type": "code",
   "execution_count": null,
   "id": "9b85f3be-fc0b-463b-bb1c-8d7d8edeca3f",
   "metadata": {},
   "outputs": [],
   "source": [
    "\"\"\"\n",
    "BASE_DIR\n",
    "    ├data_explanation.xlsx\n",
    "    ├train.csv\n",
    "    ├test.csv\n",
    "    └sample_submission.csv\n",
    "\"\"\""
   ]
  },
  {
   "cell_type": "markdown",
   "id": "97c5b029-909f-4757-897a-0100f891aa64",
   "metadata": {},
   "source": [
    "### ライブラリインストール"
   ]
  },
  {
   "cell_type": "code",
   "execution_count": 1,
   "id": "d3bcd06a-0195-4950-9215-fc51f7db6bdd",
   "metadata": {
    "tags": []
   },
   "outputs": [],
   "source": [
    "import collections\n",
    "import datetime\n",
    "import pickle\n",
    "import re\n",
    "import unicodedata\n",
    "import warnings\n",
    "\n",
    "import catboost as cb\n",
    "import japanize_matplotlib\n",
    "import lightgbm as lgb\n",
    "import matplotlib.pyplot as plt\n",
    "import numpy as np\n",
    "import pandas as pd\n",
    "import regex\n",
    "import seaborn as sns\n",
    "from sklearn.metrics import log_loss, accuracy_score, confusion_matrix, classification_report\n",
    "from sklearn.model_selection import StratifiedKFold\n",
    "from transformers import BertJapaneseTokenizer\n",
    "\n",
    "# plt.style.use('dark_background')\n",
    "warnings.filterwarnings('ignore')"
   ]
  },
  {
   "cell_type": "markdown",
   "id": "82b70426-8cfc-4ee4-89c9-715a464eef29",
   "metadata": {},
   "source": [
    "### 変数指定"
   ]
  },
  {
   "cell_type": "code",
   "execution_count": 2,
   "id": "9a1af76a-d36b-477a-8581-a97fefcd1e23",
   "metadata": {},
   "outputs": [],
   "source": [
    "# BASE_DIR = r'D:/Data/Nishika/Extending_bookmarks/data/'\n",
    "BASE_DIR = r''\n",
    "span = 0 # 全て:0, 365:365日(1年), 730:730日(2年)\n",
    "model_type = 'cb' # CatBoost:'cb', LightBGM:'lgb'"
   ]
  },
  {
   "cell_type": "markdown",
   "id": "e385a7e0-6ae3-41ad-8522-1100d5e7ae06",
   "metadata": {},
   "source": [
    "### 定数"
   ]
  },
  {
   "cell_type": "code",
   "execution_count": 3,
   "id": "8ee7a27b-028c-439a-9795-dd128046f19e",
   "metadata": {},
   "outputs": [],
   "source": [
    "URL_PATTERN = re.compile(r'http[\\w:./\\d]+') # URL\n",
    "DATE_PATTERN = re.compile(r'\\d+/\\d+/\\d+') # DATE\n",
    "HIRAGANA_PATTERN = re.compile('[\\u3041-\\u309F]+') # ひらがな\n",
    "KATAKANA_PATTERN = re.compile('[\\u30A1-\\u30FF]+') # カタカナ\n",
    "EIGO_PATTERN = re.compile('[\\u0041-\\u005A]+|[\\u0061-\\u007A]+') # 英語\n",
    "SUUZI_PATTERN = re.compile('[\\u0030-\\u0039]+') # 数字\n",
    "KANZI_PATTERN = regex.compile(r'\\p{Script=Han}+') # 漢字\n",
    "EMOZI_PATTERN = regex.compile(r'\\p{Emoji_Presentation=Yes}+') # 絵文字\n",
    "\n",
    "MODEL_NAME = 'cl-tohoku/bert-base-japanese-whole-word-masking'"
   ]
  },
  {
   "cell_type": "markdown",
   "id": "9e533962-d839-41fa-81d8-7411e8838244",
   "metadata": {},
   "source": [
    "###　カラム内容"
   ]
  },
  {
   "cell_type": "code",
   "execution_count": 4,
   "id": "270ead10-0625-4a50-a6ac-fd751ebeb4cb",
   "metadata": {},
   "outputs": [
    {
     "data": {
      "text/html": [
       "<div>\n",
       "<style scoped>\n",
       "    .dataframe tbody tr th:only-of-type {\n",
       "        vertical-align: middle;\n",
       "    }\n",
       "\n",
       "    .dataframe tbody tr th {\n",
       "        vertical-align: top;\n",
       "    }\n",
       "\n",
       "    .dataframe thead th {\n",
       "        text-align: right;\n",
       "    }\n",
       "</style>\n",
       "<table border=\"1\" class=\"dataframe\">\n",
       "  <thead>\n",
       "    <tr style=\"text-align: right;\">\n",
       "      <th></th>\n",
       "      <th>カラム名</th>\n",
       "      <th>内容</th>\n",
       "    </tr>\n",
       "  </thead>\n",
       "  <tbody>\n",
       "    <tr>\n",
       "      <th>0</th>\n",
       "      <td>ncode</td>\n",
       "      <td>Nコード（小説ID）</td>\n",
       "    </tr>\n",
       "    <tr>\n",
       "      <th>1</th>\n",
       "      <td>general_firstup</td>\n",
       "      <td>初回掲載日</td>\n",
       "    </tr>\n",
       "    <tr>\n",
       "      <th>2</th>\n",
       "      <td>title</td>\n",
       "      <td>小説名</td>\n",
       "    </tr>\n",
       "    <tr>\n",
       "      <th>3</th>\n",
       "      <td>story</td>\n",
       "      <td>小説のあらすじ</td>\n",
       "    </tr>\n",
       "    <tr>\n",
       "      <th>4</th>\n",
       "      <td>keyword</td>\n",
       "      <td>キーワード</td>\n",
       "    </tr>\n",
       "    <tr>\n",
       "      <th>5</th>\n",
       "      <td>userid</td>\n",
       "      <td>作者のユーザーID</td>\n",
       "    </tr>\n",
       "    <tr>\n",
       "      <th>6</th>\n",
       "      <td>writer</td>\n",
       "      <td>作者名</td>\n",
       "    </tr>\n",
       "    <tr>\n",
       "      <th>7</th>\n",
       "      <td>biggenre</td>\n",
       "      <td>大ジャンル\\n1:恋愛\\n2:ファンタジー\\n3:文芸\\n4:SF\\n99:その他\\n98:ノンジャンル</td>\n",
       "    </tr>\n",
       "    <tr>\n",
       "      <th>8</th>\n",
       "      <td>genre</td>\n",
       "      <td>ジャンル\\n101:異世界〔恋愛〕\\n102:現実世界〔恋愛〕\\n201:ハイファンタジー〔ファンタジー〕\\n202:ローファンタジー〔ファンタジー〕\\n301:純文学〔文芸〕\\n302:ヒューマンドラマ〔文芸〕\\n303:歴史〔文芸〕\\n304:推理〔文芸〕\\n305:ホラー〔文芸〕\\n306:アクション〔文芸〕\\n307:コメディー〔文芸〕\\n401:VRゲーム〔SF〕\\n402:宇宙〔SF〕\\n403:空想科学〔SF〕\\n404:パニック〔SF〕\\n9901:童話〔その他〕\\n9902:詩〔その他〕\\n9903:エッセイ〔その他〕\\n9904:リプレイ〔その他〕\\n9999:その他〔その他〕\\n9801:ノンジャンル〔ノンジャンル〕</td>\n",
       "    </tr>\n",
       "    <tr>\n",
       "      <th>9</th>\n",
       "      <td>novel_type</td>\n",
       "      <td>連載の場合は1、短編の場合は2</td>\n",
       "    </tr>\n",
       "    <tr>\n",
       "      <th>10</th>\n",
       "      <td>end</td>\n",
       "      <td>短編小説と完結済小説は0、連載中は1</td>\n",
       "    </tr>\n",
       "    <tr>\n",
       "      <th>11</th>\n",
       "      <td>isstop</td>\n",
       "      <td>長期連載停止中なら1、それ以外は0</td>\n",
       "    </tr>\n",
       "    <tr>\n",
       "      <th>12</th>\n",
       "      <td>isr15</td>\n",
       "      <td>登録必須キーワードに「R15」が含まれる場合は1、それ以外は0</td>\n",
       "    </tr>\n",
       "    <tr>\n",
       "      <th>13</th>\n",
       "      <td>isbl</td>\n",
       "      <td>登録必須キーワードに「ボーイズラブ」が含まれる場合は1、それ以外は0</td>\n",
       "    </tr>\n",
       "    <tr>\n",
       "      <th>14</th>\n",
       "      <td>isgl</td>\n",
       "      <td>登録必須キーワードに「ガールズラブ」が含まれる場合は1、それ以外は0</td>\n",
       "    </tr>\n",
       "    <tr>\n",
       "      <th>15</th>\n",
       "      <td>iszankoku</td>\n",
       "      <td>登録必須キーワードに「残酷な描写あり」が含まれる場合は1、それ以外は0</td>\n",
       "    </tr>\n",
       "    <tr>\n",
       "      <th>16</th>\n",
       "      <td>istensei</td>\n",
       "      <td>登録必須キーワードに「異世界転生」が含まれる場合は1、それ以外は0</td>\n",
       "    </tr>\n",
       "    <tr>\n",
       "      <th>17</th>\n",
       "      <td>istenni</td>\n",
       "      <td>登録必須キーワードに「異世界転移」が含まれる場合は1、それ以外は0</td>\n",
       "    </tr>\n",
       "    <tr>\n",
       "      <th>18</th>\n",
       "      <td>pc_or_k</td>\n",
       "      <td>1はケータイのみ、2はPCのみ、3はPCとケータイで投稿された作品です。\\n対象は投稿と次話投稿時のみで、どの端末で執筆されたかを表すものではありません。</td>\n",
       "    </tr>\n",
       "  </tbody>\n",
       "</table>\n",
       "</div>"
      ],
      "text/plain": [
       "               カラム名  \\\n",
       "0             ncode   \n",
       "1   general_firstup   \n",
       "2             title   \n",
       "3             story   \n",
       "4           keyword   \n",
       "5            userid   \n",
       "6            writer   \n",
       "7          biggenre   \n",
       "8             genre   \n",
       "9        novel_type   \n",
       "10              end   \n",
       "11           isstop   \n",
       "12            isr15   \n",
       "13             isbl   \n",
       "14             isgl   \n",
       "15        iszankoku   \n",
       "16         istensei   \n",
       "17          istenni   \n",
       "18          pc_or_k   \n",
       "\n",
       "                                                                                                                                                                                                                                                                                                                                     内容  \n",
       "0                                                                                                                                                                                                                                                                                                                            Nコード（小説ID）  \n",
       "1                                                                                                                                                                                                                                                                                                                                 初回掲載日  \n",
       "2                                                                                                                                                                                                                                                                                                                                   小説名  \n",
       "3                                                                                                                                                                                                                                                                                                                               小説のあらすじ  \n",
       "4                                                                                                                                                                                                                                                                                                                                 キーワード  \n",
       "5                                                                                                                                                                                                                                                                                                                             作者のユーザーID  \n",
       "6                                                                                                                                                                                                                                                                                                                                   作者名  \n",
       "7                                                                                                                                                                                                                                                                                  大ジャンル\\n1:恋愛\\n2:ファンタジー\\n3:文芸\\n4:SF\\n99:その他\\n98:ノンジャンル  \n",
       "8   ジャンル\\n101:異世界〔恋愛〕\\n102:現実世界〔恋愛〕\\n201:ハイファンタジー〔ファンタジー〕\\n202:ローファンタジー〔ファンタジー〕\\n301:純文学〔文芸〕\\n302:ヒューマンドラマ〔文芸〕\\n303:歴史〔文芸〕\\n304:推理〔文芸〕\\n305:ホラー〔文芸〕\\n306:アクション〔文芸〕\\n307:コメディー〔文芸〕\\n401:VRゲーム〔SF〕\\n402:宇宙〔SF〕\\n403:空想科学〔SF〕\\n404:パニック〔SF〕\\n9901:童話〔その他〕\\n9902:詩〔その他〕\\n9903:エッセイ〔その他〕\\n9904:リプレイ〔その他〕\\n9999:その他〔その他〕\\n9801:ノンジャンル〔ノンジャンル〕  \n",
       "9                                                                                                                                                                                                                                                                                                                       連載の場合は1、短編の場合は2  \n",
       "10                                                                                                                                                                                                                                                                                                                   短編小説と完結済小説は0、連載中は1  \n",
       "11                                                                                                                                                                                                                                                                                                                    長期連載停止中なら1、それ以外は0  \n",
       "12                                                                                                                                                                                                                                                                                                      登録必須キーワードに「R15」が含まれる場合は1、それ以外は0  \n",
       "13                                                                                                                                                                                                                                                                                                   登録必須キーワードに「ボーイズラブ」が含まれる場合は1、それ以外は0  \n",
       "14                                                                                                                                                                                                                                                                                                   登録必須キーワードに「ガールズラブ」が含まれる場合は1、それ以外は0  \n",
       "15                                                                                                                                                                                                                                                                                                  登録必須キーワードに「残酷な描写あり」が含まれる場合は1、それ以外は0  \n",
       "16                                                                                                                                                                                                                                                                                                    登録必須キーワードに「異世界転生」が含まれる場合は1、それ以外は0  \n",
       "17                                                                                                                                                                                                                                                                                                    登録必須キーワードに「異世界転移」が含まれる場合は1、それ以外は0  \n",
       "18                                                                                                                                                                                                                                                        1はケータイのみ、2はPCのみ、3はPCとケータイで投稿された作品です。\\n対象は投稿と次話投稿時のみで、どの端末で執筆されたかを表すものではありません。  "
      ]
     },
     "execution_count": 4,
     "metadata": {},
     "output_type": "execute_result"
    }
   ],
   "source": [
    "pd.set_option('display.max_colwidth', None)\n",
    "pd.read_excel(BASE_DIR + 'data_explanation.xlsx', sheet_name=1)"
   ]
  },
  {
   "cell_type": "markdown",
   "id": "c4aa6480-a4b0-4b68-bfb9-5d3843b583a7",
   "metadata": {},
   "source": [
    "### データ読み込み"
   ]
  },
  {
   "cell_type": "code",
   "execution_count": 5,
   "id": "e380c33f-77d1-48fb-94de-f4767838a4f4",
   "metadata": {},
   "outputs": [],
   "source": [
    "raw = pd.read_csv(BASE_DIR + 'train.csv')\n",
    "raw.keyword.fillna('', inplace=True)\n",
    "raw_test = pd.read_csv(BASE_DIR + 'test.csv')\n",
    "raw_test.keyword.fillna('', inplace=True)"
   ]
  },
  {
   "cell_type": "markdown",
   "id": "53c56a43-8f85-4ae6-8fee-ea69a045f0b5",
   "metadata": {},
   "source": [
    "### 前処理・EDA（探索的データ分析）"
   ]
  },
  {
   "cell_type": "markdown",
   "id": "02fb8944-ddff-4d2d-ae55-7933f138d4ee",
   "metadata": {},
   "source": [
    "ブックマーク度が上がるほど、データ数が減少しています。"
   ]
  },
  {
   "cell_type": "code",
   "execution_count": 6,
   "id": "991d8956-fc97-4f26-b294-51f56f0c6b10",
   "metadata": {},
   "outputs": [
    {
     "data": {
      "image/png": "[encoded data removed]",
      "text/plain": [
       "<Figure size 432x288 with 1 Axes>"
      ]
     },
     "metadata": {},
     "output_type": "display_data"
    }
   ],
   "source": [
    "raw.groupby('fav_novel_cnt_bin').size().plot.bar(title='ブックマーク度別データ数');"
   ]
  },
  {
   "cell_type": "markdown",
   "id": "d8e1af3c-c800-4686-a60a-fe2a1731d7b8",
   "metadata": {},
   "source": [
    "### ・初回掲載年、経過日数カラム"
   ]
  },
  {
   "cell_type": "markdown",
   "id": "9e66e2c0-5815-4d27-a97d-e7d8ef0ac49e",
   "metadata": {},
   "source": [
    "チュートリアルを参考にして、経過日数カラムと初回掲載年カラムも追加しました。\n",
    "テストデータが直近のものだけなので、除外も考えましたが、除外すると精度が低下したので残しています。"
   ]
  },
  {
   "cell_type": "code",
   "execution_count": 7,
   "id": "0119da2f-d585-410e-8e71-252dea6f0521",
   "metadata": {},
   "outputs": [],
   "source": [
    "def firstup_prep(df):\n",
    "    df = df.copy()\n",
    "    # 掲載開始年\n",
    "    df['gf_year'] = pd.to_datetime(df.general_firstup).apply(lambda x: x.year)\n",
    "    # 経過日数カラム\n",
    "    elapsed_days = lambda x: (base_date - datetime.datetime.strptime(x.split()[0], '%Y-%m-%d')).days\n",
    "    # データをダウンロードした日をベース\n",
    "    base_date = datetime.datetime(2021,9,29)\n",
    "    df['elapsed_days'] = df.general_firstup.apply(elapsed_days)\n",
    "    df.drop('general_firstup', axis=1, inplace=True)\n",
    "    return df"
   ]
  },
  {
   "cell_type": "code",
   "execution_count": 8,
   "id": "f5c4cd8f-60cd-4063-ac8d-fef8dddd84da",
   "metadata": {},
   "outputs": [],
   "source": [
    "df_train = firstup_prep(raw)\n",
    "df_test = firstup_prep(raw_test)"
   ]
  },
  {
   "cell_type": "markdown",
   "id": "1d375497-2711-4b94-a52b-5cca12f818b6",
   "metadata": {},
   "source": [
    "### ・年ごとの投稿数と各ブックマーク分類の数"
   ]
  },
  {
   "cell_type": "markdown",
   "id": "ae37f1c4-6b1a-4e6b-b41d-2edfeba12870",
   "metadata": {},
   "source": [
    "訓練データは直近のものがかなり多いようで、テストデータは直近のものだけです。"
   ]
  },
  {
   "cell_type": "code",
   "execution_count": 9,
   "id": "c20ae32e-97ab-410e-b979-b2f23e24d678",
   "metadata": {},
   "outputs": [
    {
     "name": "stdout",
     "output_type": "stream",
     "text": [
      "[2021]\n"
     ]
    }
   ],
   "source": [
    "# テストデータは直近のもののみ\n",
    "print(df_test.gf_year.unique())"
   ]
  },
  {
   "cell_type": "code",
   "execution_count": 10,
   "id": "81b9e35f-9291-4dd6-bc1a-8dcf460e2d0e",
   "metadata": {},
   "outputs": [
    {
     "data": {
      "image/png": "[encoded data removed]",
      "text/plain": [
       "<Figure size 864x720 with 6 Axes>"
      ]
     },
     "metadata": {},
     "output_type": "display_data"
    }
   ],
   "source": [
    "gb = df_train.groupby('gf_year')\n",
    "gb0 = df_train[df_train.fav_novel_cnt_bin == 0].groupby('gf_year')\n",
    "gb1 = df_train[df_train.fav_novel_cnt_bin == 1].groupby('gf_year')\n",
    "gb2 = df_train[df_train.fav_novel_cnt_bin == 2].groupby('gf_year')\n",
    "gb3 = df_train[df_train.fav_novel_cnt_bin == 3].groupby('gf_year')\n",
    "gb4 = df_train[df_train.fav_novel_cnt_bin == 4].groupby('gf_year')\n",
    "\n",
    "fig, ax = plt.subplots(3,2, figsize=(12,10))\n",
    "ax[0,0].bar(gb.size().index, gb.size())\n",
    "ax[0,0].set_title('投稿数');\n",
    "ax[0,1].bar(gb0.size().index, gb0.size())\n",
    "ax[0,1].set_title('ブックマーク度0');\n",
    "ax[1,0].bar(gb1.size().index, gb1.size())\n",
    "ax[1,0].set_title('ブックマーク度1');\n",
    "ax[1,1].bar(gb2.size().index, gb2.size())\n",
    "ax[1,1].set_title('ブックマーク度2');\n",
    "ax[2,0].bar(gb3.size().index, gb3.size())\n",
    "ax[2,0].set_title('ブックマーク度3');\n",
    "ax[2,1].bar(gb4.size().index, gb4.size())\n",
    "ax[2,1].set_title('ブックマーク度4')\n",
    "plt.tight_layout();"
   ]
  },
  {
   "cell_type": "code",
   "execution_count": null,
   "id": "a0246e10-27ee-4ad3-ba9f-d1ce6134efd0",
   "metadata": {},
   "outputs": [],
   "source": []
  },
  {
   "cell_type": "markdown",
   "id": "6d3a5faf-d1a8-4951-9373-e54ad7199e21",
   "metadata": {},
   "source": [
    "### ・スパン別にデータ抽出"
   ]
  },
  {
   "cell_type": "markdown",
   "id": "5332e9ee-0c06-4251-ab6c-b3d75405205e",
   "metadata": {},
   "source": [
    "テストデータが直近のものだけなので、直近1, 2年のデータに絞ったモデルも作ることにました。"
   ]
  },
  {
   "cell_type": "code",
   "execution_count": 11,
   "id": "4e1661b1-0402-4507-9e90-0c09037dec42",
   "metadata": {},
   "outputs": [],
   "source": [
    "if (span == 365) | (span == 730):\n",
    "    days = df_train.elapsed_days.unique().min() + span\n",
    "    df_train = df_train[df_train.elapsed_days < days]\n",
    "    df_train.reset_index(drop=True, inplace=True)"
   ]
  },
  {
   "cell_type": "code",
   "execution_count": 12,
   "id": "98992840-b486-4d51-ac49-82f0eb1586c3",
   "metadata": {},
   "outputs": [
    {
     "data": {
      "text/plain": [
       "40000"
      ]
     },
     "execution_count": 12,
     "metadata": {},
     "output_type": "execute_result"
    }
   ],
   "source": [
    "len(df_train)"
   ]
  },
  {
   "cell_type": "code",
   "execution_count": null,
   "id": "7256c504-7656-498e-8984-317ff2c70fa2",
   "metadata": {},
   "outputs": [],
   "source": []
  },
  {
   "cell_type": "markdown",
   "id": "fd4e749c-6058-4a15-89b4-0ed866a23499",
   "metadata": {},
   "source": [
    "### ・トップトークンリスト作成"
   ]
  },
  {
   "cell_type": "markdown",
   "id": "9f08875b-670e-470b-8f1e-5ad59e2837ae",
   "metadata": {},
   "source": [
    "特定トークンが含まれていることでブックマーク度が上がる可能性があると仮定して、<br>\n",
    "ブックマーク度が1以上のデータのトップトークンを特徴量化することにしました。<br>\n",
    "（title:top200, story:top500, keyword:top200, 100-200-100と200-500-200の2パターンを試行）<br>\n",
    "①各ブックマーク度別（1以上）にトップトークンを抽出<br>\n",
    "②setでユニーク化<br>"
   ]
  },
  {
   "cell_type": "code",
   "execution_count": 13,
   "id": "e57550e1-4137-48a2-8a44-3d4f0accb106",
   "metadata": {},
   "outputs": [],
   "source": [
    "# トークナイザをロード\n",
    "tokenizer = BertJapaneseTokenizer.from_pretrained(MODEL_NAME)"
   ]
  },
  {
   "cell_type": "code",
   "execution_count": 14,
   "id": "3e354756-c9aa-4f06-a2aa-08e98c17ec9f",
   "metadata": {},
   "outputs": [],
   "source": [
    "def text_normalize(text):\n",
    "    # 文字列を正規化\n",
    "    return unicodedata.normalize('NFKC', text)"
   ]
  },
  {
   "cell_type": "code",
   "execution_count": 15,
   "id": "9a45e11f-ce90-4317-ba89-3a7667e4da9e",
   "metadata": {},
   "outputs": [],
   "source": [
    "def sharp_del(token_list):\n",
    "    \"\"\"##を消して連結\"\"\"\n",
    "    count = 0\n",
    "    for t in token_list:\n",
    "        if '##' in t:\n",
    "            count += 1\n",
    "    while count > 0:\n",
    "        for i in range(len(token_list)):\n",
    "            if '##' in token_list[i]:\n",
    "                token_list[i-1] = token_list[i-1] + token_list[i][2:]\n",
    "                del token_list[i]\n",
    "                count -= 1\n",
    "                break\n",
    "    return token_list"
   ]
  },
  {
   "cell_type": "markdown",
   "id": "f0be60b4-247c-46de-bf36-1809250c640d",
   "metadata": {},
   "source": [
    "### （・スパンモデル2回目はここまで、カラムの絞り込みへ）"
   ]
  },
  {
   "cell_type": "code",
   "execution_count": 16,
   "id": "06bbe34d-a31c-4b32-9b5b-22cddd0749e1",
   "metadata": {},
   "outputs": [],
   "source": [
    "def make_token_list(df, col):\n",
    "    \"\"\"トークンリストを作成\"\"\"\n",
    "    df = df.copy()\n",
    "    token_list = []\n",
    "    c = 0\n",
    "     \n",
    "    for i in range(len(df)):\n",
    "        text = df[col].iloc[i]\n",
    "        text = text_normalize(text)\n",
    "        \n",
    "        if col == 'story':\n",
    "            text, url_count = URL_PATTERN.subn('URL', text)\n",
    "            text, date_count = DATE_PATTERN.subn('DATE', text)\n",
    "\n",
    "        if (col == 'title') | (col == 'story'):\n",
    "            t = tokenizer.tokenize(text)\n",
    "            t = sharp_del(t)\n",
    "            # ユニーク化\n",
    "            t = list(set(t))\n",
    "            # '[UNK]'があれば削除\n",
    "            if '[UNK]' in t:\n",
    "                t.remove('[UNK]')\n",
    "            for token in t:\n",
    "                if len(token) >= 2:\n",
    "                    token_list.append(token)\n",
    "        \n",
    "        if (col == 'keyword'):\n",
    "            token_list += text.split()\n",
    "\n",
    "        c += 1\n",
    "        print(f'\\r{c:5}', end='')\n",
    "    return token_list"
   ]
  },
  {
   "cell_type": "code",
   "execution_count": 17,
   "id": "3d90d2b0-f384-4e8c-92cc-3ddecf20ce94",
   "metadata": {},
   "outputs": [],
   "source": [
    "def make_token_dict(df, col):\n",
    "    \"\"\"トークン辞書を作成\"\"\"\n",
    "    df = df.copy()\n",
    "    for i in range(5):\n",
    "        df_f = df[df.fav_novel_cnt_bin == i]\n",
    "        token_list = make_token_list(df_f, col)\n",
    "        if i == 0:\n",
    "            token_dict = {i: (token_list)}\n",
    "        else:\n",
    "            token_dict[i] = token_list\n",
    "        del df_f\n",
    "    return token_dict"
   ]
  },
  {
   "cell_type": "code",
   "execution_count": 18,
   "id": "640fb4fe-b7dd-4b91-8f35-0586b370991c",
   "metadata": {},
   "outputs": [],
   "source": [
    "def make_top_token_list(token_dict, n):\n",
    "    \"\"\"トップトークンリストを作成\"\"\"\n",
    "    top_token_dict = {}\n",
    "    for i in range(5):\n",
    "        counter = collections.Counter(token_dict[i])\n",
    "        top = counter.most_common()[:n]\n",
    "        temp_top_token_list = [i[0] for i in top]\n",
    "        top_token_dict[i] = temp_top_token_list\n",
    "    # ユニーク化\n",
    "    top_token_list = list(set(top_token_dict[4]) | set(top_token_dict[3]) | \n",
    "                          set(top_token_dict[2]) | set(top_token_dict[1]))\n",
    "    return sorted(top_token_list)"
   ]
  },
  {
   "cell_type": "code",
   "execution_count": 19,
   "id": "794077f7-965e-416d-a423-fab0de6a134c",
   "metadata": {},
   "outputs": [
    {
     "name": "stdout",
     "output_type": "stream",
     "text": [
      "  814"
     ]
    }
   ],
   "source": [
    "n_title = 200\n",
    "title_token_dict = make_token_dict(df_train, 'title')\n",
    "top_title_token_list = make_top_token_list(title_token_dict, n_title)\n",
    "# データを保存\n",
    "if span == 0:\n",
    "    with open(BASE_DIR + f'top{n_title}_title_token_list.pkl', mode='wb') as f:\n",
    "        pickle.dump(top_title_token_list, f)\n",
    "if (span == 365) | (span == 730):\n",
    "    with open(BASE_DIR + f'top{n_title}_title_token_list_{span}.pkl', mode='wb') as f:\n",
    "        pickle.dump(top_title_token_list, f)"
   ]
  },
  {
   "cell_type": "code",
   "execution_count": 20,
   "id": "ef177397-2ad4-4321-8828-9e6fdb3599a0",
   "metadata": {},
   "outputs": [
    {
     "name": "stdout",
     "output_type": "stream",
     "text": [
      "  814"
     ]
    }
   ],
   "source": [
    "n_story = 500\n",
    "story_token_dict = make_token_dict(df_train, 'story')\n",
    "top_story_token_list = make_top_token_list(story_token_dict, n_story)\n",
    "# データを保存\n",
    "if span == 0:\n",
    "    with open(BASE_DIR + f'top{n_story}_story_token_list.pkl', mode='wb') as f:\n",
    "        pickle.dump(top_story_token_list, f)\n",
    "if (span == 365) | (span == 730):\n",
    "    with open(BASE_DIR + f'top{n_story}_story_token_list_{span}.pkl', mode='wb') as f:\n",
    "        pickle.dump(top_story_token_list, f)"
   ]
  },
  {
   "cell_type": "code",
   "execution_count": 21,
   "id": "dc70ce11-5429-49ae-a73e-91fd73a19c1e",
   "metadata": {},
   "outputs": [
    {
     "name": "stdout",
     "output_type": "stream",
     "text": [
      "  814"
     ]
    }
   ],
   "source": [
    "n_keyword = 200\n",
    "keyword_token_dict = make_token_dict(df_train, 'keyword')\n",
    "top_keyword_token_list = make_top_token_list(keyword_token_dict, n_keyword)\n",
    "# データを保存\n",
    "if span == 0:\n",
    "    with open(BASE_DIR + f'top{n_keyword}_keyword_token_list.pkl', mode='wb') as f:\n",
    "        pickle.dump(top_keyword_token_list, f)\n",
    "if (span == 365) | (span == 730):\n",
    "    with open(BASE_DIR + f'top{n_keyword}_keyword_token_list_{span}.pkl', mode='wb') as f:\n",
    "        pickle.dump(top_keyword_token_list, f)"
   ]
  },
  {
   "cell_type": "code",
   "execution_count": null,
   "id": "dc1b21a1-541f-4382-88f3-9c4a04e08f61",
   "metadata": {},
   "outputs": [],
   "source": []
  },
  {
   "cell_type": "markdown",
   "id": "dd591a60-898d-4c7f-9c4b-e49e49ed017c",
   "metadata": {},
   "source": [
    "### ・カラムの絞り込み"
   ]
  },
  {
   "cell_type": "markdown",
   "id": "89a06feb-66fe-42a9-ae2d-f5e656c20414",
   "metadata": {},
   "source": [
    "ncodeは重複がないためおそらく予測に影響ないと判断、writerはuseidと同等と判断しました。"
   ]
  },
  {
   "cell_type": "code",
   "execution_count": 22,
   "id": "31f98950-f340-4416-8cff-505a23cc53d7",
   "metadata": {},
   "outputs": [],
   "source": [
    "df_train = df_train[['title', 'story', 'keyword', 'userid', 'biggenre', 'genre', 'novel_type', 'end', 'isstop', \n",
    "                     'isr15', 'isbl', 'isgl', 'iszankoku', 'istensei', 'istenni', 'pc_or_k', 'gf_year', 'elapsed_days',\n",
    "                     'fav_novel_cnt_bin']\n",
    "                   ].copy()\n",
    "df_test = df_test[['title', 'story', 'keyword', 'userid', 'biggenre', 'genre', 'novel_type', 'end', 'isstop', \n",
    "                   'isr15', 'isbl', 'isgl', 'iszankoku', 'istensei', 'istenni', 'pc_or_k', 'gf_year', 'elapsed_days']\n",
    "                 ].copy()"
   ]
  },
  {
   "cell_type": "code",
   "execution_count": 23,
   "id": "60d73580-12ee-4c9c-843c-e7684a1e251c",
   "metadata": {},
   "outputs": [
    {
     "data": {
      "text/plain": [
       "((40000, 19), (8522, 18))"
      ]
     },
     "execution_count": 23,
     "metadata": {},
     "output_type": "execute_result"
    }
   ],
   "source": [
    "df_train.shape, df_test.shape"
   ]
  },
  {
   "cell_type": "markdown",
   "id": "9dd48950-865a-48ff-b1a0-346866ebbb16",
   "metadata": {},
   "source": [
    "### ・カウントカラム"
   ]
  },
  {
   "cell_type": "markdown",
   "id": "2266d0a9-4c92-4730-bcde-7ba7416038b1",
   "metadata": {},
   "source": [
    "チュートリアルを参考にして、storyカラムのURL数などを追加してカウントカラムを作成しました。"
   ]
  },
  {
   "cell_type": "code",
   "execution_count": 24,
   "id": "9ff03705-e8b1-4b69-8a74-55bc50ba7b1d",
   "metadata": {},
   "outputs": [],
   "source": [
    "def make_count_columns(df, col):\n",
    "    count_list = []\n",
    "    url_count_list = []\n",
    "    date_count_list = []\n",
    "    len_text_list = []\n",
    "    token_count_list = []\n",
    "    \n",
    "    for i in range(len(df)):\n",
    "        text = df[col][i]\n",
    "        # 文字列を正規化\n",
    "        text = text_normalize(text)\n",
    "        \n",
    "        # storyのみURLとDATEを削除、カウント\n",
    "        if col == 'story':\n",
    "            text, url_count = URL_PATTERN.subn('', text)\n",
    "            url_count_list.append(url_count)\n",
    "            text, date_count = DATE_PATTERN.subn('', text)\n",
    "            date_count_list.append(date_count)\n",
    "        \n",
    "        # テキストの長さ\n",
    "        len_text_list.append(len(text))\n",
    "        \n",
    "        # トークンをカウント\n",
    "        token_list = []\n",
    "        if (col == 'title') | (col == 'story'):\n",
    "            t = tokenizer.tokenize(text)\n",
    "            t = sharp_del(t)\n",
    "            for token in t:\n",
    "                if len(token) >= 2:\n",
    "                    token_list.append(token)\n",
    "        if (col == 'keyword'):\n",
    "            token_list = text.split()\n",
    "        token_count_list.append(len(token_list))\n",
    "        \n",
    "        # 各種文字をカウント（ひらがな、カタカナ、英語、数字、漢字、絵文字）\n",
    "        hira_j = ''.join(HIRAGANA_PATTERN.findall(text))\n",
    "        kata_j = ''.join(KATAKANA_PATTERN.findall(text))\n",
    "        eigo_j = ''.join(EIGO_PATTERN.findall(text))\n",
    "        suuzi_j = ''.join(SUUZI_PATTERN.findall(text))\n",
    "        kanzi_j = ''.join(KANZI_PATTERN.findall(text))\n",
    "        emozi_j = ''.join(EMOZI_PATTERN.findall(text))\n",
    "        count_list.append([len(hira_j), len(kata_j), len(eigo_j), len(suuzi_j), len(kanzi_j), len(emozi_j)])\n",
    "        print(f'\\r{i+1}', end='')\n",
    "    \n",
    "    print()\n",
    "    if col == 'story':\n",
    "        # storyのみurlとdateカウントカラム作成\n",
    "        df['url_c'] = url_count_list\n",
    "        df['date_c'] = date_count_list\n",
    "        df['story_len_text'] = len_text_list\n",
    "        df['story_token_c'] = token_count_list\n",
    "    if (col == 'title') | (col == 'keyword'):\n",
    "        df[f'{col}_len_text'] = len_text_list\n",
    "        df[f'{col}_token_c'] = token_count_list\n",
    "    \n",
    "    columns = [f'{col}_hira_c', f'{col}_kata_c', f'{col}_eigo_c', f'{col}_suuzi_c', f'{col}_kanzi_c', f'{col}_emozi_c']\n",
    "    df_count = pd.DataFrame(count_list, columns=columns)\n",
    "    df = pd.concat([df, df_count], axis=1)\n",
    "    \n",
    "    return df"
   ]
  },
  {
   "cell_type": "code",
   "execution_count": 25,
   "id": "8bf087d5-f0c6-427b-b28d-0548e134d241",
   "metadata": {},
   "outputs": [
    {
     "name": "stdout",
     "output_type": "stream",
     "text": [
      "40000\n",
      "8522\n"
     ]
    }
   ],
   "source": [
    "df_train = make_count_columns(df_train, 'title')\n",
    "df_test = make_count_columns(df_test, 'title')"
   ]
  },
  {
   "cell_type": "code",
   "execution_count": 26,
   "id": "fa590300-3315-4223-97b9-28d8b5ffd17c",
   "metadata": {},
   "outputs": [
    {
     "name": "stdout",
     "output_type": "stream",
     "text": [
      "40000\n",
      "8522\n"
     ]
    }
   ],
   "source": [
    "df_train = make_count_columns(df_train, 'story')\n",
    "df_test = make_count_columns(df_test, 'story')"
   ]
  },
  {
   "cell_type": "code",
   "execution_count": 27,
   "id": "302041c8-ef30-4946-b18c-d99aea36595f",
   "metadata": {
    "tags": []
   },
   "outputs": [
    {
     "name": "stdout",
     "output_type": "stream",
     "text": [
      "40000\n",
      "8522\n"
     ]
    }
   ],
   "source": [
    "df_train = make_count_columns(df_train, 'keyword')\n",
    "df_test = make_count_columns(df_test, 'keyword')"
   ]
  },
  {
   "cell_type": "markdown",
   "id": "3010b4ca-2b77-48b0-910b-266f818b2a9d",
   "metadata": {},
   "source": [
    "### ・トップトークンカラム"
   ]
  },
  {
   "cell_type": "markdown",
   "id": "3a595b42-a1dc-440c-bec1-8ce3f1293378",
   "metadata": {},
   "source": [
    "トップトークンリストをワンホットで特徴量化しました。"
   ]
  },
  {
   "cell_type": "code",
   "execution_count": 28,
   "id": "ecaae4ef-d6cc-4dfb-af25-f694cc2bdfa1",
   "metadata": {
    "tags": []
   },
   "outputs": [],
   "source": [
    "if span == 0:\n",
    "    add = ''\n",
    "if (span == 365) | (span == 730):\n",
    "    add = f'_{span}'\n",
    "with open(BASE_DIR + f'top200_title_token_list{add}.pkl', mode='rb') as f:\n",
    "    top_title_token_list = pickle.load(f)\n",
    "with open(BASE_DIR + f'top500_story_token_list{add}.pkl', mode='rb') as f:\n",
    "    top_story_token_list = pickle.load(f)\n",
    "with open(BASE_DIR + f'top200_keyword_token_list{add}.pkl', mode='rb') as f:\n",
    "    top_keyword_token_list = pickle.load(f)"
   ]
  },
  {
   "cell_type": "code",
   "execution_count": 29,
   "id": "902aa3ef-fd9a-4f7a-a099-98f895a2f0be",
   "metadata": {},
   "outputs": [],
   "source": [
    "def make_df_top_token(df, col, top_token_list):\n",
    "    df = df.copy()\n",
    "    row_data_list = []\n",
    "    c = 0\n",
    "\n",
    "    for i in range(len(df)):\n",
    "        text = df[col].iloc[i]\n",
    "        text = text_normalize(text)\n",
    "        if col == 'story':\n",
    "            text = URL_PATTERN.sub('URL', text)\n",
    "            text = DATE_PATTERN.sub('DATE', text)\n",
    "\n",
    "        row_data = []\n",
    "        for token in top_token_list:\n",
    "            row_data.append(int(token in text))\n",
    "        row_data_list.append(row_data)\n",
    "\n",
    "        c += 1\n",
    "        print(f'\\r{c}', end='')\n",
    "    print()\n",
    "    \n",
    "    df_top_token = pd.DataFrame(row_data_list)\n",
    "    df_top_token.columns = [f'{col}_{str(i)}' for i in range(len(top_token_list))]\n",
    "    \n",
    "    return df_top_token"
   ]
  },
  {
   "cell_type": "code",
   "execution_count": 30,
   "id": "75163f24-87ab-4f72-a262-fcaecbef31f4",
   "metadata": {
    "tags": []
   },
   "outputs": [
    {
     "name": "stdout",
     "output_type": "stream",
     "text": [
      "40000\n",
      "8522\n"
     ]
    }
   ],
   "source": [
    "df_title_top_token = make_df_top_token(df_train, 'title', top_title_token_list)\n",
    "df_test_title_top_token = make_df_top_token(df_test, 'title', top_title_token_list)"
   ]
  },
  {
   "cell_type": "code",
   "execution_count": 31,
   "id": "bca1f61d-8eec-49aa-b88f-2e5c560a56fe",
   "metadata": {},
   "outputs": [
    {
     "name": "stdout",
     "output_type": "stream",
     "text": [
      "40000\n",
      "8522\n"
     ]
    }
   ],
   "source": [
    "df_story_top_token = make_df_top_token(df_train, 'story', top_story_token_list)\n",
    "df_test_story_top_token = make_df_top_token(df_test, 'story', top_story_token_list)"
   ]
  },
  {
   "cell_type": "code",
   "execution_count": 32,
   "id": "53232a2c-f92e-4934-a9b8-67be1a296486",
   "metadata": {},
   "outputs": [
    {
     "name": "stdout",
     "output_type": "stream",
     "text": [
      "40000\n",
      "8522\n"
     ]
    }
   ],
   "source": [
    "df_keyword_top_token = make_df_top_token(df_train, 'keyword', top_keyword_token_list)\n",
    "df_test_keyword_top_token = make_df_top_token(df_test, 'keyword', top_keyword_token_list)"
   ]
  },
  {
   "cell_type": "code",
   "execution_count": 33,
   "id": "4a059053-66c5-4345-97ca-ab597533fd92",
   "metadata": {},
   "outputs": [],
   "source": [
    "df_train.drop(['title', 'story', 'keyword'], axis=1, inplace=True)\n",
    "df_test.drop(['title', 'story', 'keyword'], axis=1, inplace=True)"
   ]
  },
  {
   "cell_type": "code",
   "execution_count": 34,
   "id": "f2bd713e-bfaa-4a61-b4b9-f1e891c581fc",
   "metadata": {},
   "outputs": [],
   "source": [
    "# 連結\n",
    "df_train = pd.concat([df_train, df_title_top_token, df_story_top_token, df_keyword_top_token], \n",
    "                      axis=1)\n",
    "df_test = pd.concat([df_test, df_test_title_top_token, df_test_story_top_token, df_test_keyword_top_token],  \n",
    "                     axis=1)"
   ]
  },
  {
   "cell_type": "markdown",
   "id": "e92f0afd-6c94-48d0-8cd8-9a5076d10f8b",
   "metadata": {},
   "source": [
    "### ・BERT特徴量カラム"
   ]
  },
  {
   "cell_type": "markdown",
   "id": "da8fabdf-63c9-49e6-8130-b0480e1be908",
   "metadata": {},
   "source": [
    "BERT分類モデルを作ったものの、単独ではあまり精度が出なかった（loglossで0.9-1程度）ため、<br>\n",
    "予測数値を特徴量として追加しました。（別ファイルで特徴量化）<br>\n",
    "モデルは精度が向上した2モデル(whole,v2)を使っています。<br>"
   ]
  },
  {
   "cell_type": "code",
   "execution_count": 35,
   "id": "4234d830-f8aa-494f-bb31-369ad51a06d5",
   "metadata": {},
   "outputs": [],
   "source": [
    "# whole\n",
    "if span == 0:\n",
    "    add = ''\n",
    "if (span == 365) | (span == 730):\n",
    "    add = f'_{span}'\n",
    "with open(BASE_DIR + f'df_bert{add}_title.pkl', mode='rb') as f:\n",
    "    df_bert_title = pickle.load(f)\n",
    "with open(BASE_DIR + f'df_bert{add}_story.pkl', mode='rb') as f:\n",
    "    df_bert_story = pickle.load(f)\n",
    "with open(BASE_DIR + f'df_bert{add}_keyword.pkl', mode='rb') as f:\n",
    "    df_bert_keyword = pickle.load(f)\n",
    "\n",
    "with open(BASE_DIR + f'df_test_bert{add}_title.pkl', mode='rb') as f:\n",
    "    df_test_bert_title = pickle.load(f)\n",
    "with open(BASE_DIR + f'df_test_bert{add}_story.pkl', mode='rb') as f:\n",
    "    df_test_bert_story = pickle.load(f)\n",
    "with open(BASE_DIR + f'df_test_bert{add}_keyword.pkl', mode='rb') as f:\n",
    "    df_test_bert_keyword = pickle.load(f)\n",
    "\n",
    "# v2\n",
    "with open(BASE_DIR + f'df_bert{add}_title_v2.pkl', mode='rb') as f:\n",
    "    df_bert_title_v2 = pickle.load(f)\n",
    "with open(BASE_DIR + f'df_bert{add}_story_v2.pkl', mode='rb') as f:\n",
    "    df_bert_story_v2 = pickle.load(f)\n",
    "with open(BASE_DIR + f'df_bert{add}_keyword_v2.pkl', mode='rb') as f:\n",
    "    df_bert_keyword_v2 = pickle.load(f)\n",
    "\n",
    "with open(BASE_DIR + f'df_test_bert{add}_title_v2.pkl', mode='rb') as f:\n",
    "    df_test_bert_title_v2 = pickle.load(f)\n",
    "with open(BASE_DIR + f'df_test_bert{add}_story_v2.pkl', mode='rb') as f:\n",
    "    df_test_bert_story_v2 = pickle.load(f)\n",
    "with open(BASE_DIR + f'df_test_bert{add}_keyword_v2.pkl', mode='rb') as f:\n",
    "    df_test_bert_keyword_v2 = pickle.load(f)"
   ]
  },
  {
   "cell_type": "code",
   "execution_count": 36,
   "id": "3077f37c-3797-4dd0-a746-a071bce74478",
   "metadata": {},
   "outputs": [],
   "source": [
    "# 連結\n",
    "df_train = pd.concat([df_train, df_bert_title, df_bert_story, df_bert_keyword,\n",
    "                      df_bert_title_v2, df_bert_story_v2, df_bert_keyword_v2, \n",
    "                     ], axis=1)\n",
    "df_test = pd.concat([df_test, df_test_bert_title, df_test_bert_story, df_test_bert_keyword,\n",
    "                     df_test_bert_title_v2, df_test_bert_story_v2, df_test_bert_keyword_v2,\n",
    "                    ], axis=1)"
   ]
  },
  {
   "cell_type": "markdown",
   "id": "14148407-b723-493a-bc9c-45c107542bf9",
   "metadata": {},
   "source": [
    "### ・スパンモデル特徴量カラム（メインモデルのみ）"
   ]
  },
  {
   "cell_type": "markdown",
   "id": "b28ca579-949d-4732-aaeb-b5803a89ec8a",
   "metadata": {},
   "source": [
    "スパンモデル単独では精度が向上しなかったので、予測結果を特徴量化しました。"
   ]
  },
  {
   "cell_type": "code",
   "execution_count": 37,
   "id": "48fc88e1-5ebe-46bc-9255-236c01a06557",
   "metadata": {},
   "outputs": [
    {
     "name": "stdout",
     "output_type": "stream",
     "text": [
      "(40000, 1436) (8522, 1435)\n"
     ]
    }
   ],
   "source": [
    "if span == 0:\n",
    "    # cb\n",
    "    with open(BASE_DIR + 'span_change_365_cb.pkl', mode='rb') as f:\n",
    "        df_sc365_cb = pickle.load(f)\n",
    "    with open(BASE_DIR + 'span_change_365_cb_test.pkl', mode='rb') as f:\n",
    "        df_sc365_cb_test = pickle.load(f)\n",
    "    with open(BASE_DIR + 'span_change_730_cb.pkl', mode='rb') as f:\n",
    "        df_sc730_cb = pickle.load(f)\n",
    "    with open(BASE_DIR + 'span_change_730_cb_test.pkl', mode='rb') as f:\n",
    "        df_sc730_cb_test = pickle.load(f)\n",
    "    # lgb\n",
    "    with open(BASE_DIR + 'span_change_365_lgb.pkl', mode='rb') as f:\n",
    "        df_sc365_lgb = pickle.load(f)\n",
    "    with open(BASE_DIR + 'span_change_365_lgb_test.pkl', mode='rb') as f:\n",
    "        df_sc365_lgb_test = pickle.load(f)\n",
    "    with open(BASE_DIR + 'span_change_730_lgb.pkl', mode='rb') as f:\n",
    "        df_sc730_lgb = pickle.load(f)\n",
    "    with open(BASE_DIR + 'span_change_730_lgb_test.pkl', mode='rb') as f:\n",
    "        df_sc730_lgb_test = pickle.load(f)\n",
    "    \n",
    "    # 足りない訓練データは0パディング\n",
    "    # cb\n",
    "    zeros_365_cb = pd.DataFrame(np.zeros((40000-len(df_sc365_cb), 5)), columns=df_sc365_cb.columns)\n",
    "    zeros_730_cb = pd.DataFrame(np.zeros((40000-len(df_sc730_cb), 5)), columns=df_sc730_cb.columns)\n",
    "    df_sc365_cb = zeros_365_cb.append(df_sc365_cb)\n",
    "    df_sc730_cb = zeros_730_cb.append(df_sc730_cb)\n",
    "    df_sc365_cb.reset_index(drop=True, inplace=True)\n",
    "    df_sc730_cb.reset_index(drop=True, inplace=True)\n",
    "    # lgb\n",
    "    zeros_365_lgb = pd.DataFrame(np.zeros((40000-len(df_sc365_lgb), 5)), columns=df_sc365_lgb.columns)\n",
    "    zeros_730_lgb = pd.DataFrame(np.zeros((40000-len(df_sc730_lgb), 5)), columns=df_sc730_lgb.columns)\n",
    "    df_sc365_lgb = zeros_365_lgb.append(df_sc365_lgb)\n",
    "    df_sc730_lgb = zeros_730_lgb.append(df_sc730_lgb)\n",
    "    df_sc365_lgb.reset_index(drop=True, inplace=True)\n",
    "    df_sc730_lgb.reset_index(drop=True, inplace=True)\n",
    "#     print(df_train.shape, df_sc365_cb.shape, df_sc730_cb.shape, \n",
    "#           df_sc365_lgb.shape, df_sc730_lgb.shape)\n",
    "#     print(df_test.shape, df_sc365_cb_test.shape, df_sc730_cb_test.shape, \n",
    "#           df_sc365_lgb_test.shape, df_sc730_lgb_test.shape)\n",
    "    df_train = pd.concat([df_train, df_sc365_cb, df_sc730_cb, \n",
    "                          df_sc365_lgb, df_sc730_lgb, \n",
    "                          ], axis=1)\n",
    "    df_test = pd.concat([df_test, df_sc365_cb_test, df_sc730_cb_test, \n",
    "                         df_sc365_lgb_test, df_sc730_lgb_test, \n",
    "                         ], axis=1)\n",
    "    print(df_train.shape, df_test.shape)"
   ]
  },
  {
   "cell_type": "markdown",
   "id": "86b8eb5f-c77e-4080-b749-07445d8a2b75",
   "metadata": {},
   "source": [
    "### 訓練データ作成"
   ]
  },
  {
   "cell_type": "code",
   "execution_count": 38,
   "id": "3f25dcc8-fc8d-4f0c-9140-160e87c9674c",
   "metadata": {},
   "outputs": [],
   "source": [
    "X = df_train.drop('fav_novel_cnt_bin', axis=1)\n",
    "y = df_train[['fav_novel_cnt_bin']]"
   ]
  },
  {
   "cell_type": "code",
   "execution_count": 39,
   "id": "ef930721-6c20-4a4d-9c48-ac2a88d64fa2",
   "metadata": {},
   "outputs": [
    {
     "name": "stdout",
     "output_type": "stream",
     "text": [
      "Index(['userid', 'biggenre', 'genre', 'novel_type', 'end', 'isstop', 'isr15',\n",
      "       'isbl', 'isgl', 'iszankoku', 'istensei', 'istenni', 'pc_or_k',\n",
      "       'gf_year', 'elapsed_days'],\n",
      "      dtype='object')\n",
      "Index(['title_0', 'title_1', 'title_2', 'title_3', 'title_4', 'title_5',\n",
      "       'title_6', 'title_7', 'title_8', 'title_9',\n",
      "       ...\n",
      "       'keyword_301', 'keyword_302', 'keyword_303', 'keyword_304',\n",
      "       'keyword_305', 'keyword_306', 'keyword_307', 'keyword_308',\n",
      "       'keyword_309', 'bert_title_0'],\n",
      "      dtype='object', length=1345)\n"
     ]
    }
   ],
   "source": [
    "print(X.columns[:15])\n",
    "if span == 0:\n",
    "    print(X.columns[41:-49])\n",
    "if (span == 365) | (span == 730):\n",
    "    print(X.columns[41:-29])"
   ]
  },
  {
   "cell_type": "code",
   "execution_count": 40,
   "id": "f05975bd-fae5-4147-846f-530c549015c6",
   "metadata": {},
   "outputs": [],
   "source": [
    "# カテゴリー特徴量指定\n",
    "if span == 0:\n",
    "    cat_features = X.columns[:14].tolist() + X.columns[41:-50].tolist()\n",
    "if (span == 365) | (span == 730):\n",
    "    cat_features = X.columns[:14].tolist() + X.columns[41:-30].tolist()"
   ]
  },
  {
   "cell_type": "code",
   "execution_count": 41,
   "id": "9ed0f617-cdb8-4048-8c1b-72df4ea6a2fb",
   "metadata": {},
   "outputs": [
    {
     "data": {
      "text/plain": [
       "((40000, 1435), (40000, 1))"
      ]
     },
     "execution_count": 41,
     "metadata": {},
     "output_type": "execute_result"
    }
   ],
   "source": [
    "X.shape, y.shape"
   ]
  },
  {
   "cell_type": "code",
   "execution_count": null,
   "id": "6dfe6ed5-2edc-46c2-a17b-6527ea05fd2e",
   "metadata": {},
   "outputs": [],
   "source": [
    "\"\"\"\n",
    "出力\n",
    "0: ((40000, 1435), (40000, 1))\n",
    "365: ((25453, 1514), (25453, 1))\n",
    "730: ((30089, 1467), (30089, 1))\n",
    "\"\"\""
   ]
  },
  {
   "cell_type": "markdown",
   "id": "11f508ad-2bb5-4664-94d9-f4b67301ba61",
   "metadata": {},
   "source": [
    "### 訓練"
   ]
  },
  {
   "cell_type": "code",
   "execution_count": 42,
   "id": "f162ec68-e55b-41a7-ac0a-64b31127318d",
   "metadata": {
    "tags": []
   },
   "outputs": [
    {
     "name": "stdout",
     "output_type": "stream",
     "text": [
      "Learning rate set to 0.115726\n",
      "0:\tlearn: 1.4363021\ttest: 1.4384730\tbest: 1.4384730 (0)\ttotal: 384ms\tremaining: 6m 23s\n",
      "250:\tlearn: 0.6484555\ttest: 0.7043561\tbest: 0.7043561 (250)\ttotal: 1m 1s\tremaining: 3m 2s\n",
      "500:\tlearn: 0.5923202\ttest: 0.7040000\tbest: 0.7036487 (465)\ttotal: 2m 2s\tremaining: 2m 1s\n",
      "Stopped by overfitting detector  (100 iterations wait)\n",
      "\n",
      "bestTest = 0.7036487271\n",
      "bestIteration = 465\n",
      "\n",
      "Shrink model to first 466 iterations.\n",
      "==============================\n",
      "log_loss: 0.7036487270887369\n",
      "acc: 0.692375\n",
      "==============================\n",
      "Learning rate set to 0.115726\n",
      "0:\tlearn: 1.4346309\ttest: 1.4373754\tbest: 1.4373754 (0)\ttotal: 246ms\tremaining: 4m 6s\n",
      "250:\tlearn: 0.6454659\ttest: 0.7077727\tbest: 0.7077452 (249)\ttotal: 1m 3s\tremaining: 3m 10s\n",
      "Stopped by overfitting detector  (100 iterations wait)\n",
      "\n",
      "bestTest = 0.7066534962\n",
      "bestIteration = 300\n",
      "\n",
      "Shrink model to first 301 iterations.\n",
      "==============================\n",
      "log_loss: 0.7066534961589627\n",
      "acc: 0.691875\n",
      "==============================\n",
      "Learning rate set to 0.115726\n",
      "0:\tlearn: 1.4365984\ttest: 1.4366461\tbest: 1.4366461 (0)\ttotal: 255ms\tremaining: 4m 14s\n",
      "250:\tlearn: 0.6469445\ttest: 0.7048786\tbest: 0.7048497 (249)\ttotal: 1m 6s\tremaining: 3m 18s\n",
      "500:\tlearn: 0.5902401\ttest: 0.7026793\tbest: 0.7026653 (460)\ttotal: 2m 15s\tremaining: 2m 15s\n",
      "Stopped by overfitting detector  (100 iterations wait)\n",
      "\n",
      "bestTest = 0.7022988337\n",
      "bestIteration = 519\n",
      "\n",
      "Shrink model to first 520 iterations.\n",
      "==============================\n",
      "log_loss: 0.7022988337486881\n",
      "acc: 0.693375\n",
      "==============================\n",
      "Learning rate set to 0.115726\n",
      "0:\tlearn: 1.4361971\ttest: 1.4365006\tbest: 1.4365006 (0)\ttotal: 253ms\tremaining: 4m 12s\n",
      "250:\tlearn: 0.6477572\ttest: 0.7043285\tbest: 0.7043285 (250)\ttotal: 1m 10s\tremaining: 3m 30s\n",
      "Stopped by overfitting detector  (100 iterations wait)\n",
      "\n",
      "bestTest = 0.7022797429\n",
      "bestIteration = 348\n",
      "\n",
      "Shrink model to first 349 iterations.\n",
      "==============================\n",
      "log_loss: 0.7022797429048522\n",
      "acc: 0.691375\n",
      "==============================\n",
      "Learning rate set to 0.115726\n",
      "0:\tlearn: 1.4315693\ttest: 1.4352190\tbest: 1.4352190 (0)\ttotal: 289ms\tremaining: 4m 48s\n",
      "250:\tlearn: 0.6447510\ttest: 0.7060850\tbest: 0.7059774 (246)\ttotal: 1m 23s\tremaining: 4m 8s\n",
      "Stopped by overfitting detector  (100 iterations wait)\n",
      "\n",
      "bestTest = 0.7045922681\n",
      "bestIteration = 368\n",
      "\n",
      "Shrink model to first 369 iterations.\n",
      "==============================\n",
      "log_loss: 0.7045922681009895\n",
      "acc: 0.693875\n",
      "==============================\n",
      "Done!\n"
     ]
    }
   ],
   "source": [
    "loss_list = []\n",
    "model_list = []\n",
    "pred_list = []\n",
    "val_index_list = []\n",
    "\n",
    "skf = StratifiedKFold(n_splits=5, shuffle=True, random_state=42)\n",
    "\n",
    "if model_type == 'cb':\n",
    "    params = {\n",
    "            'random_seed': 42,\n",
    "            'loss_function': 'MultiClass', \n",
    "            'verbose': 250, \n",
    "            'early_stopping_rounds': 100, \n",
    "    }\n",
    "    for train_index, val_index in skf.split(X, y):\n",
    "        val_index_list += list(val_index)\n",
    "        X_train, X_val = X.iloc[train_index], X.iloc[val_index]\n",
    "        y_train, y_val = y.iloc[train_index], y.iloc[val_index]\n",
    "        c_train = cb.Pool(X_train, label=y_train, cat_features=cat_features)  \n",
    "        c_val = cb.Pool(X_val, label=y_val, cat_features=cat_features)\n",
    "        model = cb.CatBoostClassifier(**params)\n",
    "        model.fit(c_train, eval_set=[c_val])\n",
    "        pred = model.predict(c_val, prediction_type='Probability')\n",
    "        loss = log_loss(y_val.values.reshape(-1), pred)\n",
    "        loss_list.append(loss)\n",
    "        model_list.append(model)\n",
    "        pred_list.append(pred)\n",
    "        print('==============================')\n",
    "        print('log_loss:', loss)\n",
    "        print('acc:', accuracy_score(y_val.values.reshape(-1), model.predict(c_val)))\n",
    "        print('==============================')\n",
    "    print('Done!')\n",
    "    \n",
    "if model_type == 'lgb':\n",
    "    params = {\n",
    "        'objective': 'multiclass',\n",
    "        'num_classes': 5,\n",
    "        'metric': 'multi_logloss',\n",
    "        'num_leaves': 31,\n",
    "        'max_depth': -1,\n",
    "        \"feature_fraction\": 1,\n",
    "        'learning_rate': 0.1,\n",
    "        \"boosting\": \"gbdt\",\n",
    "        \"verbosity\": -1,\n",
    "        \"random_state\": 42,\n",
    "        \"num_boost_round\": 1000,\n",
    "        \"early_stopping_rounds\": 100\n",
    "    }\n",
    "\n",
    "    for train_index, val_index in skf.split(X, y):\n",
    "        val_index_list += list(val_index)\n",
    "        X_train, X_val = X.iloc[train_index], X.iloc[val_index]\n",
    "        y_train, y_val = y.iloc[train_index], y.iloc[val_index]\n",
    "        train_data = lgb.Dataset(X_train, label=y_train) \n",
    "        val_data = lgb.Dataset(X_val, label=y_val) \n",
    "        model = lgb.train(\n",
    "            params,\n",
    "            train_data, \n",
    "            categorical_feature = cat_features,\n",
    "            valid_names = ['train', 'valid'],\n",
    "            valid_sets =[train_data, val_data], \n",
    "            verbose_eval = 100,\n",
    "        )\n",
    "        pred = model.predict(X_val, num_iteration=model.best_iteration)\n",
    "        loss = log_loss(y_val.values, pred)\n",
    "        model_list.append(model)\n",
    "        pred_list.append(pred)\n",
    "        loss_list.append(loss)\n",
    "    print('Done!')"
   ]
  },
  {
   "cell_type": "code",
   "execution_count": 43,
   "id": "e21089e8-7c72-4233-aecf-ca05a8cf99c2",
   "metadata": {},
   "outputs": [
    {
     "name": "stdout",
     "output_type": "stream",
     "text": [
      "[0.7036 0.7067 0.7023 0.7023 0.7046]\n",
      "0.7039\n"
     ]
    }
   ],
   "source": [
    "print(np.array(loss_list).round(4))\n",
    "print(np.array(loss_list).mean().round(4))"
   ]
  },
  {
   "cell_type": "code",
   "execution_count": null,
   "id": "c00e851a-17a2-4241-b253-40de60807daa",
   "metadata": {},
   "outputs": [],
   "source": [
    "\"\"\"\n",
    "365_cb: 0.6669\n",
    "365_lgb: 0.726\n",
    "730_cb: 0.6783\n",
    "730_lgb: 0.7342\n",
    "main: 0.7039\n",
    "\"\"\""
   ]
  },
  {
   "cell_type": "markdown",
   "id": "ce37236c-784c-43ac-a179-4838996e80db",
   "metadata": {},
   "source": [
    "### ・評価（参考：最終モデルのみ）"
   ]
  },
  {
   "cell_type": "code",
   "execution_count": 44,
   "id": "831b8908-04de-4b78-a10a-c14d3ecc5740",
   "metadata": {},
   "outputs": [
    {
     "name": "stdout",
     "output_type": "stream",
     "text": [
      "              precision    recall  f1-score   support\n",
      "\n",
      "           0       0.78      0.84      0.81      3729\n",
      "           1       0.64      0.64      0.64      2872\n",
      "           2       0.51      0.45      0.48       864\n",
      "           3       0.49      0.38      0.43       372\n",
      "           4       0.67      0.40      0.51       163\n",
      "\n",
      "    accuracy                           0.69      8000\n",
      "   macro avg       0.62      0.54      0.57      8000\n",
      "weighted avg       0.69      0.69      0.69      8000\n",
      "\n"
     ]
    }
   ],
   "source": [
    "print(classification_report(y_val.values.reshape(-1), pred.argmax(axis=1)))"
   ]
  },
  {
   "cell_type": "markdown",
   "id": "de8cd59c-5ad1-4bd3-9238-7f7a3ba8e286",
   "metadata": {},
   "source": [
    "### ・特徴量重要度"
   ]
  },
  {
   "cell_type": "code",
   "execution_count": 45,
   "id": "c4f2a486-dd78-477a-b6d7-0cf802b9cde2",
   "metadata": {},
   "outputs": [
    {
     "data": {
      "text/html": [
       "<div>\n",
       "<style scoped>\n",
       "    .dataframe tbody tr th:only-of-type {\n",
       "        vertical-align: middle;\n",
       "    }\n",
       "\n",
       "    .dataframe tbody tr th {\n",
       "        vertical-align: top;\n",
       "    }\n",
       "\n",
       "    .dataframe thead th {\n",
       "        text-align: right;\n",
       "    }\n",
       "</style>\n",
       "<table border=\"1\" class=\"dataframe\">\n",
       "  <thead>\n",
       "    <tr style=\"text-align: right;\">\n",
       "      <th></th>\n",
       "      <th>feature_name</th>\n",
       "      <th>feature_importance</th>\n",
       "    </tr>\n",
       "  </thead>\n",
       "  <tbody>\n",
       "    <tr>\n",
       "      <th>0</th>\n",
       "      <td>userid</td>\n",
       "      <td>9.229134</td>\n",
       "    </tr>\n",
       "    <tr>\n",
       "      <th>1420</th>\n",
       "      <td>sc730_cb_0</td>\n",
       "      <td>6.764173</td>\n",
       "    </tr>\n",
       "    <tr>\n",
       "      <th>1421</th>\n",
       "      <td>sc730_cb_1</td>\n",
       "      <td>6.468757</td>\n",
       "    </tr>\n",
       "    <tr>\n",
       "      <th>3</th>\n",
       "      <td>novel_type</td>\n",
       "      <td>4.305674</td>\n",
       "    </tr>\n",
       "    <tr>\n",
       "      <th>1422</th>\n",
       "      <td>sc730_cb_2</td>\n",
       "      <td>2.530626</td>\n",
       "    </tr>\n",
       "    <tr>\n",
       "      <th>1393</th>\n",
       "      <td>bert_story_3</td>\n",
       "      <td>2.360857</td>\n",
       "    </tr>\n",
       "    <tr>\n",
       "      <th>1412</th>\n",
       "      <td>bert_keyword_v2_2</td>\n",
       "      <td>2.155884</td>\n",
       "    </tr>\n",
       "    <tr>\n",
       "      <th>1416</th>\n",
       "      <td>sc365_cb_1</td>\n",
       "      <td>1.889977</td>\n",
       "    </tr>\n",
       "    <tr>\n",
       "      <th>1430</th>\n",
       "      <td>sc730_lgb_0</td>\n",
       "      <td>1.865310</td>\n",
       "    </tr>\n",
       "    <tr>\n",
       "      <th>1423</th>\n",
       "      <td>sc730_cb_3</td>\n",
       "      <td>1.832653</td>\n",
       "    </tr>\n",
       "    <tr>\n",
       "      <th>1431</th>\n",
       "      <td>sc730_lgb_1</td>\n",
       "      <td>1.790446</td>\n",
       "    </tr>\n",
       "    <tr>\n",
       "      <th>1415</th>\n",
       "      <td>sc365_cb_0</td>\n",
       "      <td>1.779079</td>\n",
       "    </tr>\n",
       "    <tr>\n",
       "      <th>1398</th>\n",
       "      <td>bert_keyword_3</td>\n",
       "      <td>1.768571</td>\n",
       "    </tr>\n",
       "    <tr>\n",
       "      <th>2</th>\n",
       "      <td>genre</td>\n",
       "      <td>1.746783</td>\n",
       "    </tr>\n",
       "    <tr>\n",
       "      <th>1414</th>\n",
       "      <td>bert_keyword_v2_4</td>\n",
       "      <td>1.722037</td>\n",
       "    </tr>\n",
       "    <tr>\n",
       "      <th>1411</th>\n",
       "      <td>bert_keyword_v2_1</td>\n",
       "      <td>1.464809</td>\n",
       "    </tr>\n",
       "    <tr>\n",
       "      <th>14</th>\n",
       "      <td>elapsed_days</td>\n",
       "      <td>1.434735</td>\n",
       "    </tr>\n",
       "    <tr>\n",
       "      <th>1417</th>\n",
       "      <td>sc365_cb_2</td>\n",
       "      <td>1.428750</td>\n",
       "    </tr>\n",
       "    <tr>\n",
       "      <th>1426</th>\n",
       "      <td>sc365_lgb_1</td>\n",
       "      <td>1.315883</td>\n",
       "    </tr>\n",
       "    <tr>\n",
       "      <th>1</th>\n",
       "      <td>biggenre</td>\n",
       "      <td>1.293793</td>\n",
       "    </tr>\n",
       "    <tr>\n",
       "      <th>1408</th>\n",
       "      <td>bert_story_v2_3</td>\n",
       "      <td>1.250467</td>\n",
       "    </tr>\n",
       "    <tr>\n",
       "      <th>1409</th>\n",
       "      <td>bert_story_v2_4</td>\n",
       "      <td>1.248511</td>\n",
       "    </tr>\n",
       "    <tr>\n",
       "      <th>1406</th>\n",
       "      <td>bert_story_v2_1</td>\n",
       "      <td>1.237089</td>\n",
       "    </tr>\n",
       "    <tr>\n",
       "      <th>1425</th>\n",
       "      <td>sc365_lgb_0</td>\n",
       "      <td>1.204667</td>\n",
       "    </tr>\n",
       "    <tr>\n",
       "      <th>1432</th>\n",
       "      <td>sc730_lgb_2</td>\n",
       "      <td>1.132134</td>\n",
       "    </tr>\n",
       "    <tr>\n",
       "      <th>1424</th>\n",
       "      <td>sc730_cb_4</td>\n",
       "      <td>1.124022</td>\n",
       "    </tr>\n",
       "    <tr>\n",
       "      <th>1407</th>\n",
       "      <td>bert_story_v2_2</td>\n",
       "      <td>1.123988</td>\n",
       "    </tr>\n",
       "    <tr>\n",
       "      <th>1392</th>\n",
       "      <td>bert_story_2</td>\n",
       "      <td>1.095661</td>\n",
       "    </tr>\n",
       "    <tr>\n",
       "      <th>1410</th>\n",
       "      <td>bert_keyword_v2_0</td>\n",
       "      <td>1.068545</td>\n",
       "    </tr>\n",
       "    <tr>\n",
       "      <th>13</th>\n",
       "      <td>gf_year</td>\n",
       "      <td>1.060952</td>\n",
       "    </tr>\n",
       "  </tbody>\n",
       "</table>\n",
       "</div>"
      ],
      "text/plain": [
       "           feature_name  feature_importance\n",
       "0                userid            9.229134\n",
       "1420         sc730_cb_0            6.764173\n",
       "1421         sc730_cb_1            6.468757\n",
       "3            novel_type            4.305674\n",
       "1422         sc730_cb_2            2.530626\n",
       "1393       bert_story_3            2.360857\n",
       "1412  bert_keyword_v2_2            2.155884\n",
       "1416         sc365_cb_1            1.889977\n",
       "1430        sc730_lgb_0            1.865310\n",
       "1423         sc730_cb_3            1.832653\n",
       "1431        sc730_lgb_1            1.790446\n",
       "1415         sc365_cb_0            1.779079\n",
       "1398     bert_keyword_3            1.768571\n",
       "2                 genre            1.746783\n",
       "1414  bert_keyword_v2_4            1.722037\n",
       "1411  bert_keyword_v2_1            1.464809\n",
       "14         elapsed_days            1.434735\n",
       "1417         sc365_cb_2            1.428750\n",
       "1426        sc365_lgb_1            1.315883\n",
       "1              biggenre            1.293793\n",
       "1408    bert_story_v2_3            1.250467\n",
       "1409    bert_story_v2_4            1.248511\n",
       "1406    bert_story_v2_1            1.237089\n",
       "1425        sc365_lgb_0            1.204667\n",
       "1432        sc730_lgb_2            1.132134\n",
       "1424         sc730_cb_4            1.124022\n",
       "1407    bert_story_v2_2            1.123988\n",
       "1392       bert_story_2            1.095661\n",
       "1410  bert_keyword_v2_0            1.068545\n",
       "13              gf_year            1.060952"
      ]
     },
     "execution_count": 45,
     "metadata": {},
     "output_type": "execute_result"
    }
   ],
   "source": [
    "if model_type == 'cb':\n",
    "    importances = pd.DataFrame({'feature_name': model.feature_names_,  \n",
    "                                'feature_importance': model.feature_importances_})\n",
    "if model_type == 'lgb':\n",
    "    importances = pd.DataFrame({'feature_name': model.feature_name(), \n",
    "                            'feature_importance': model.feature_importance()})\n",
    "importances.sort_values('feature_importance', ascending=False)[:30]"
   ]
  },
  {
   "cell_type": "code",
   "execution_count": 46,
   "id": "94d94779-606b-4694-98ab-af1a7defbde9",
   "metadata": {},
   "outputs": [
    {
     "data": {
      "image/png": "[encoded data removed]",
      "text/plain": [
       "<Figure size 864x360 with 1 Axes>"
      ]
     },
     "metadata": {},
     "output_type": "display_data"
    }
   ],
   "source": [
    "# 特徴量重要度上位をグラフ化\n",
    "fig, ax = plt.subplots(figsize=(12,5))\n",
    "temp = importances.sort_values('feature_importance', ascending=False)[:30]\n",
    "ax.bar(temp.feature_name, temp.feature_importance)\n",
    "fig.autofmt_xdate(rotation=45)"
   ]
  },
  {
   "cell_type": "markdown",
   "id": "f92870b8-6b56-4c72-a744-f2babc60b6d7",
   "metadata": {},
   "source": [
    "### ・モデル出力の特徴量化（スパンモデルのみ）"
   ]
  },
  {
   "cell_type": "code",
   "execution_count": 40,
   "id": "4f9cc322-95ac-458d-8eca-f9716319d321",
   "metadata": {},
   "outputs": [],
   "source": [
    "if (span == 365) | (span == 730):\n",
    "    df_features = pd.DataFrame()\n",
    "    for l in pred_list:\n",
    "        df_features = df_features.append(pd.DataFrame(l))\n",
    "    df_features.index = val_index_list\n",
    "    df_features.sort_index(inplace=True)\n",
    "    df_features.columns = [f'sc{span}_{model_type}_{i}'for i in range(5)]\n",
    "    with open(BASE_DIR + f'span_change_{span}_{model_type}.pkl', mode='wb') as f:\n",
    "        pickle.dump(df_features, f)"
   ]
  },
  {
   "cell_type": "markdown",
   "id": "29cf7cab-c63f-4c37-b24d-0514aa827fd1",
   "metadata": {},
   "source": [
    "### テストデータ予測"
   ]
  },
  {
   "cell_type": "code",
   "execution_count": 41,
   "id": "9808be48-5679-4009-964b-550c6d36e563",
   "metadata": {},
   "outputs": [],
   "source": [
    "test_pred_list = []\n",
    "if model_type == 'cb':\n",
    "    df_test_cb = df_test.copy()\n",
    "    df_test_cb.columns = X.columns\n",
    "    c_test = cb.Pool(df_test_cb, cat_features=cat_features)\n",
    "    for model in model_list:\n",
    "        predict = model.predict(c_test, prediction_type='Probability')\n",
    "        test_pred_list.append(predict)\n",
    "if model_type == 'lgb':\n",
    "    for model in model_list:\n",
    "        pred = model.predict(df_test, num_iteration=model.best_iteration)\n",
    "        test_pred_list.append(pred)"
   ]
  },
  {
   "cell_type": "code",
   "execution_count": 42,
   "id": "3aff638d-738c-4196-b823-c86f377d843a",
   "metadata": {},
   "outputs": [],
   "source": [
    "sub_pred_list = []\n",
    "for i in range(len(test_pred_list[0])):\n",
    "    sub_pred_list.append(np.array(test_pred_list)[:, i, :].mean(axis=0))"
   ]
  },
  {
   "cell_type": "code",
   "execution_count": 43,
   "id": "dda8a71c-4da2-4938-9ae7-d8bc6d7d4a96",
   "metadata": {},
   "outputs": [],
   "source": [
    "df_sub_pred = pd.DataFrame(sub_pred_list)"
   ]
  },
  {
   "cell_type": "code",
   "execution_count": 44,
   "id": "bc164e4a-8439-4ec5-ac7e-bcf441bb2246",
   "metadata": {},
   "outputs": [
    {
     "data": {
      "text/plain": [
       "(8522, 5)"
      ]
     },
     "execution_count": 44,
     "metadata": {},
     "output_type": "execute_result"
    }
   ],
   "source": [
    "df_sub_pred.shape"
   ]
  },
  {
   "cell_type": "markdown",
   "id": "a0cdcad5-96d2-4458-b794-c25ac16cb279",
   "metadata": {},
   "source": [
    "### ・テストデータ予測値の特徴量化（スパンモデルのみ、スパンモデルはここまで）"
   ]
  },
  {
   "cell_type": "code",
   "execution_count": 45,
   "id": "f658c8ea-807e-4651-b592-005e3c228fd7",
   "metadata": {},
   "outputs": [],
   "source": [
    "if (span == 365) | (span == 730):\n",
    "    df_sub_pred.columns = [f'sc{span}_{model_type}_test_{i}'for i in range(5)]\n",
    "    with open(BASE_DIR + f'span_change_{span}_{model_type}_test.pkl', mode='wb') as f:\n",
    "        pickle.dump(df_sub_pred, f)"
   ]
  },
  {
   "cell_type": "markdown",
   "id": "3da564fb-d632-4f51-84a2-5bc98de2251f",
   "metadata": {},
   "source": [
    "### 提出"
   ]
  },
  {
   "cell_type": "code",
   "execution_count": 55,
   "id": "85f42c3e-84d4-404b-8fb7-ee94fd205b9f",
   "metadata": {},
   "outputs": [
    {
     "data": {
      "text/plain": [
       "(8522,\n",
       "      ncode  proba_0  proba_1  proba_2  proba_3  proba_4\n",
       " 0  N4541HD        0        0        0        0        0\n",
       " 1  N4397HD        0        0        0        0        0\n",
       " 2  N4544HD        0        0        0        0        0\n",
       " 3  N4545HD        0        0        0        0        0\n",
       " 4  N4546HD        0        0        0        0        0)"
      ]
     },
     "execution_count": 55,
     "metadata": {},
     "output_type": "execute_result"
    }
   ],
   "source": [
    "sub = pd.read_csv(BASE_DIR + 'sample_submission.csv')\n",
    "len(sub), sub.head()"
   ]
  },
  {
   "cell_type": "code",
   "execution_count": 56,
   "id": "1b321d60-3d84-48da-9c0e-bbb5841dcdec",
   "metadata": {},
   "outputs": [],
   "source": [
    "for i, col in enumerate(sub.columns[1:]):\n",
    "    sub[col] = df_sub_pred.iloc[:, i]"
   ]
  },
  {
   "cell_type": "code",
   "execution_count": 57,
   "id": "ab9d93c3-74b7-4d21-8513-36fff55c6fa7",
   "metadata": {},
   "outputs": [
    {
     "data": {
      "text/html": [
       "<div>\n",
       "<style scoped>\n",
       "    .dataframe tbody tr th:only-of-type {\n",
       "        vertical-align: middle;\n",
       "    }\n",
       "\n",
       "    .dataframe tbody tr th {\n",
       "        vertical-align: top;\n",
       "    }\n",
       "\n",
       "    .dataframe thead th {\n",
       "        text-align: right;\n",
       "    }\n",
       "</style>\n",
       "<table border=\"1\" class=\"dataframe\">\n",
       "  <thead>\n",
       "    <tr style=\"text-align: right;\">\n",
       "      <th></th>\n",
       "      <th>ncode</th>\n",
       "      <th>proba_0</th>\n",
       "      <th>proba_1</th>\n",
       "      <th>proba_2</th>\n",
       "      <th>proba_3</th>\n",
       "      <th>proba_4</th>\n",
       "    </tr>\n",
       "  </thead>\n",
       "  <tbody>\n",
       "    <tr>\n",
       "      <th>0</th>\n",
       "      <td>N4541HD</td>\n",
       "      <td>0.842168</td>\n",
       "      <td>0.154572</td>\n",
       "      <td>0.002959</td>\n",
       "      <td>0.000274</td>\n",
       "      <td>0.000026</td>\n",
       "    </tr>\n",
       "    <tr>\n",
       "      <th>1</th>\n",
       "      <td>N4397HD</td>\n",
       "      <td>0.009502</td>\n",
       "      <td>0.292042</td>\n",
       "      <td>0.546428</td>\n",
       "      <td>0.141835</td>\n",
       "      <td>0.010193</td>\n",
       "    </tr>\n",
       "    <tr>\n",
       "      <th>2</th>\n",
       "      <td>N4544HD</td>\n",
       "      <td>0.879149</td>\n",
       "      <td>0.119995</td>\n",
       "      <td>0.000780</td>\n",
       "      <td>0.000070</td>\n",
       "      <td>0.000005</td>\n",
       "    </tr>\n",
       "    <tr>\n",
       "      <th>3</th>\n",
       "      <td>N4545HD</td>\n",
       "      <td>0.057220</td>\n",
       "      <td>0.587155</td>\n",
       "      <td>0.274673</td>\n",
       "      <td>0.054573</td>\n",
       "      <td>0.026378</td>\n",
       "    </tr>\n",
       "    <tr>\n",
       "      <th>4</th>\n",
       "      <td>N4546HD</td>\n",
       "      <td>0.131434</td>\n",
       "      <td>0.851928</td>\n",
       "      <td>0.016282</td>\n",
       "      <td>0.000335</td>\n",
       "      <td>0.000021</td>\n",
       "    </tr>\n",
       "    <tr>\n",
       "      <th>...</th>\n",
       "      <td>...</td>\n",
       "      <td>...</td>\n",
       "      <td>...</td>\n",
       "      <td>...</td>\n",
       "      <td>...</td>\n",
       "      <td>...</td>\n",
       "    </tr>\n",
       "    <tr>\n",
       "      <th>8517</th>\n",
       "      <td>N5983HF</td>\n",
       "      <td>0.734231</td>\n",
       "      <td>0.263588</td>\n",
       "      <td>0.002024</td>\n",
       "      <td>0.000146</td>\n",
       "      <td>0.000011</td>\n",
       "    </tr>\n",
       "    <tr>\n",
       "      <th>8518</th>\n",
       "      <td>N5990HF</td>\n",
       "      <td>0.731636</td>\n",
       "      <td>0.263830</td>\n",
       "      <td>0.004115</td>\n",
       "      <td>0.000399</td>\n",
       "      <td>0.000021</td>\n",
       "    </tr>\n",
       "    <tr>\n",
       "      <th>8519</th>\n",
       "      <td>N5993HF</td>\n",
       "      <td>0.867958</td>\n",
       "      <td>0.129937</td>\n",
       "      <td>0.001867</td>\n",
       "      <td>0.000225</td>\n",
       "      <td>0.000014</td>\n",
       "    </tr>\n",
       "    <tr>\n",
       "      <th>8520</th>\n",
       "      <td>N5996HF</td>\n",
       "      <td>0.702024</td>\n",
       "      <td>0.289314</td>\n",
       "      <td>0.007860</td>\n",
       "      <td>0.000723</td>\n",
       "      <td>0.000079</td>\n",
       "    </tr>\n",
       "    <tr>\n",
       "      <th>8521</th>\n",
       "      <td>N5997HF</td>\n",
       "      <td>0.795029</td>\n",
       "      <td>0.203378</td>\n",
       "      <td>0.001467</td>\n",
       "      <td>0.000117</td>\n",
       "      <td>0.000010</td>\n",
       "    </tr>\n",
       "  </tbody>\n",
       "</table>\n",
       "<p>8522 rows × 6 columns</p>\n",
       "</div>"
      ],
      "text/plain": [
       "        ncode   proba_0   proba_1   proba_2   proba_3   proba_4\n",
       "0     N4541HD  0.842168  0.154572  0.002959  0.000274  0.000026\n",
       "1     N4397HD  0.009502  0.292042  0.546428  0.141835  0.010193\n",
       "2     N4544HD  0.879149  0.119995  0.000780  0.000070  0.000005\n",
       "3     N4545HD  0.057220  0.587155  0.274673  0.054573  0.026378\n",
       "4     N4546HD  0.131434  0.851928  0.016282  0.000335  0.000021\n",
       "...       ...       ...       ...       ...       ...       ...\n",
       "8517  N5983HF  0.734231  0.263588  0.002024  0.000146  0.000011\n",
       "8518  N5990HF  0.731636  0.263830  0.004115  0.000399  0.000021\n",
       "8519  N5993HF  0.867958  0.129937  0.001867  0.000225  0.000014\n",
       "8520  N5996HF  0.702024  0.289314  0.007860  0.000723  0.000079\n",
       "8521  N5997HF  0.795029  0.203378  0.001467  0.000117  0.000010\n",
       "\n",
       "[8522 rows x 6 columns]"
      ]
     },
     "execution_count": 57,
     "metadata": {},
     "output_type": "execute_result"
    }
   ],
   "source": [
    "sub"
   ]
  },
  {
   "cell_type": "code",
   "execution_count": 62,
   "id": "462b21ec-71a0-4682-9449-5ebdc69778d8",
   "metadata": {},
   "outputs": [],
   "source": [
    "sub.to_csv(BASE_DIR + 'submission.csv', index=False)"
   ]
  }
 ],
 "metadata": {
  "kernelspec": {
   "display_name": "Python 3",
   "language": "python",
   "name": "python3"
  },
  "language_info": {
   "codemirror_mode": {
    "name": "ipython",
    "version": 3
   },
   "file_extension": ".py",
   "mimetype": "text/x-python",
   "name": "python",
   "nbconvert_exporter": "python",
   "pygments_lexer": "ipython3",
   "version": "3.8.5"
  },
  "toc-showcode": false,
  "toc-showtags": false
 },
 "nbformat": 4,
 "nbformat_minor": 5
}
